{
 "cells": [
  {
   "attachments": {},
   "cell_type": "markdown",
   "metadata": {},
   "source": [
    "# VacationPy\n",
    "---\n",
    "\n",
    "## Starter Code to Import Libraries and Load the Weather and Coordinates Data"
   ]
  },
  {
   "cell_type": "code",
   "execution_count": 9,
   "metadata": {},
   "outputs": [],
   "source": [
    "# Dependencies and Setup\n",
    "import hvplot.pandas\n",
    "import pandas as pd\n",
    "import requests\n",
    "\n",
    "# Import API key\n",
    "from api_keys import geoapify_key"
   ]
  },
  {
   "cell_type": "code",
   "execution_count": 10,
   "metadata": {},
   "outputs": [
    {
     "data": {
      "text/html": [
       "<div>\n",
       "<style scoped>\n",
       "    .dataframe tbody tr th:only-of-type {\n",
       "        vertical-align: middle;\n",
       "    }\n",
       "\n",
       "    .dataframe tbody tr th {\n",
       "        vertical-align: top;\n",
       "    }\n",
       "\n",
       "    .dataframe thead th {\n",
       "        text-align: right;\n",
       "    }\n",
       "</style>\n",
       "<table border=\"1\" class=\"dataframe\">\n",
       "  <thead>\n",
       "    <tr style=\"text-align: right;\">\n",
       "      <th></th>\n",
       "      <th>City_ID</th>\n",
       "      <th>City</th>\n",
       "      <th>Lat</th>\n",
       "      <th>Lng</th>\n",
       "      <th>Max Temp</th>\n",
       "      <th>Humidity</th>\n",
       "      <th>Cloudiness</th>\n",
       "      <th>Wind Speed</th>\n",
       "      <th>Country</th>\n",
       "      <th>Date</th>\n",
       "    </tr>\n",
       "  </thead>\n",
       "  <tbody>\n",
       "    <tr>\n",
       "      <th>0</th>\n",
       "      <td>0</td>\n",
       "      <td>port-aux-francais</td>\n",
       "      <td>-49.3500</td>\n",
       "      <td>70.2167</td>\n",
       "      <td>4.16</td>\n",
       "      <td>67</td>\n",
       "      <td>100</td>\n",
       "      <td>12.53</td>\n",
       "      <td>TF</td>\n",
       "      <td>1686459062</td>\n",
       "    </tr>\n",
       "    <tr>\n",
       "      <th>1</th>\n",
       "      <td>1</td>\n",
       "      <td>margaret river</td>\n",
       "      <td>-33.9500</td>\n",
       "      <td>115.0667</td>\n",
       "      <td>13.51</td>\n",
       "      <td>62</td>\n",
       "      <td>97</td>\n",
       "      <td>8.98</td>\n",
       "      <td>AU</td>\n",
       "      <td>1686459062</td>\n",
       "    </tr>\n",
       "    <tr>\n",
       "      <th>2</th>\n",
       "      <td>2</td>\n",
       "      <td>pacasmayo</td>\n",
       "      <td>-7.4006</td>\n",
       "      <td>-79.5714</td>\n",
       "      <td>21.72</td>\n",
       "      <td>83</td>\n",
       "      <td>14</td>\n",
       "      <td>5.84</td>\n",
       "      <td>PE</td>\n",
       "      <td>1686459062</td>\n",
       "    </tr>\n",
       "    <tr>\n",
       "      <th>3</th>\n",
       "      <td>3</td>\n",
       "      <td>papatowai</td>\n",
       "      <td>-46.5619</td>\n",
       "      <td>169.4708</td>\n",
       "      <td>9.02</td>\n",
       "      <td>83</td>\n",
       "      <td>60</td>\n",
       "      <td>1.58</td>\n",
       "      <td>NZ</td>\n",
       "      <td>1686459440</td>\n",
       "    </tr>\n",
       "    <tr>\n",
       "      <th>4</th>\n",
       "      <td>4</td>\n",
       "      <td>veinticinco de mayo</td>\n",
       "      <td>-35.4323</td>\n",
       "      <td>-60.1727</td>\n",
       "      <td>4.97</td>\n",
       "      <td>56</td>\n",
       "      <td>0</td>\n",
       "      <td>5.51</td>\n",
       "      <td>AR</td>\n",
       "      <td>1686459440</td>\n",
       "    </tr>\n",
       "  </tbody>\n",
       "</table>\n",
       "</div>"
      ],
      "text/plain": [
       "   City_ID                 City      Lat       Lng  Max Temp  Humidity  \\\n",
       "0        0    port-aux-francais -49.3500   70.2167      4.16        67   \n",
       "1        1       margaret river -33.9500  115.0667     13.51        62   \n",
       "2        2            pacasmayo  -7.4006  -79.5714     21.72        83   \n",
       "3        3            papatowai -46.5619  169.4708      9.02        83   \n",
       "4        4  veinticinco de mayo -35.4323  -60.1727      4.97        56   \n",
       "\n",
       "   Cloudiness  Wind Speed Country        Date  \n",
       "0         100       12.53      TF  1686459062  \n",
       "1          97        8.98      AU  1686459062  \n",
       "2          14        5.84      PE  1686459062  \n",
       "3          60        1.58      NZ  1686459440  \n",
       "4           0        5.51      AR  1686459440  "
      ]
     },
     "execution_count": 10,
     "metadata": {},
     "output_type": "execute_result"
    }
   ],
   "source": [
    "# Load the CSV file created in Part 1 into a Pandas DataFrame\n",
    "city_data_df = pd.read_csv(\"output_data/cities.csv\")\n",
    "\n",
    "# Display sample data\n",
    "city_data_df.head()"
   ]
  },
  {
   "attachments": {},
   "cell_type": "markdown",
   "metadata": {},
   "source": [
    "### Step 1: Create a map that displays a point for every city in the `city_data_df` DataFrame. The size of the point should be the humidity in each city."
   ]
  },
  {
   "cell_type": "code",
   "execution_count": 50,
   "metadata": {},
   "outputs": [
    {
     "name": "stdout",
     "output_type": "stream",
     "text": [
      "Launching server at http://localhost:53010\n"
     ]
    },
    {
     "name": "stderr",
     "output_type": "stream",
     "text": [
      "WARNING:bokeh.core.validation.check:W-1005 (FIXED_SIZING_MODE): 'fixed' sizing mode requires width and height to be set: Row(id='5892', ...)\n",
      "WARNING:tornado.access:404 GET /favicon.ico (::1) 0.27ms\n"
     ]
    }
   ],
   "source": [
    "# Configure the map\n",
    "map_plot_1 = city_data_df.hvplot.points(\n",
    "    \"Lng\",\n",
    "    \"Lat\",\n",
    "    #\"Country\",\n",
    "    geo = True,\n",
    "    tiles = 'OSM',\n",
    "    frame_width = 800,\n",
    "    frame_height = 600,\n",
    "    color = \"City\",\n",
    "    size = \"Humidity\",\n",
    "    hover_cols = \"Country\"\n",
    ")\n",
    "\n",
    "# Display the map plot\n",
    "hvplot.show(map_plot_1)"
   ]
  },
  {
   "attachments": {},
   "cell_type": "markdown",
   "metadata": {},
   "source": [
    "### Step 2: Narrow down the `city_data_df` DataFrame to find your ideal weather condition"
   ]
  },
  {
   "cell_type": "code",
   "execution_count": null,
   "metadata": {},
   "outputs": [],
   "source": [
    "# Narrow down cities that fit criteria and drop any results with null values\n",
    "# YOUR CODE HERE\n",
    "\n",
    "# Drop any rows with null values\n",
    "# YOUR CODE HERE\n",
    "\n",
    "# Display sample data\n",
    "# YOUR CODE HERE"
   ]
  },
  {
   "attachments": {},
   "cell_type": "markdown",
   "metadata": {},
   "source": [
    "### Step 3: Create a new DataFrame called `hotel_df`."
   ]
  },
  {
   "cell_type": "code",
   "execution_count": null,
   "metadata": {},
   "outputs": [],
   "source": [
    "# Use the Pandas copy function to create DataFrame called hotel_df to store the city, country, coordinates, and humidity\n",
    "# YOUR CODE HERE\n",
    "\n",
    "# Add an empty column, \"Hotel Name,\" to the DataFrame so you can store the hotel found using the Geoapify API\n",
    "# YOUR CODE HERE\n",
    "\n",
    "# Display sample data\n",
    "# YOUR CODE HERE"
   ]
  },
  {
   "attachments": {},
   "cell_type": "markdown",
   "metadata": {},
   "source": [
    "### Step 4: For each city, use the Geoapify API to find the first hotel located within 10,000 metres of your coordinates."
   ]
  },
  {
   "attachments": {},
   "cell_type": "markdown",
   "metadata": {},
   "source": [
    "### Step 5: Add the hotel name and the country as additional information in the hover message for each city in the map."
   ]
  }
 ],
 "metadata": {
  "kernelspec": {
   "display_name": "PythonDataYML",
   "language": "python",
   "name": "python3"
  },
  "language_info": {
   "codemirror_mode": {
    "name": "ipython",
    "version": 3
   },
   "file_extension": ".py",
   "mimetype": "text/x-python",
   "name": "python",
   "nbconvert_exporter": "python",
   "pygments_lexer": "ipython3",
   "version": "3.11.3"
  },
  "orig_nbformat": 4
 },
 "nbformat": 4,
 "nbformat_minor": 2
}
